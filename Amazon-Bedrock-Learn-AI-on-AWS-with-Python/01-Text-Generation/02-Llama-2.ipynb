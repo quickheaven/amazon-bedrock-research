{
 "cells": [
  {
   "cell_type": "markdown",
   "id": "497e1cb0-41be-4c00-b7cb-6bfe69021594",
   "metadata": {},
   "source": [
    "## Text Models with Amazon Bedrock"
   ]
  },
  {
   "cell_type": "markdown",
   "id": "1d6d9fce-9fcb-431c-8fb9-1bff1ea8cc24",
   "metadata": {},
   "source": [
    "### Llama2"
   ]
  },
  {
   "cell_type": "code",
   "execution_count": 5,
   "id": "2a0ffa6b-5d86-42ce-b0cc-a601439b8167",
   "metadata": {
    "tags": []
   },
   "outputs": [],
   "source": [
    "import boto3\n",
    "import json"
   ]
  },
  {
   "cell_type": "code",
   "execution_count": 6,
   "id": "f18fee79-8dbf-4190-890c-672563fcdbbe",
   "metadata": {
    "tags": []
   },
   "outputs": [],
   "source": [
    "bedrock_runtime = boto3.client(region_name='us-east-1',\n",
    "                               service_name='bedrock-runtime')"
   ]
  },
  {
   "cell_type": "code",
   "execution_count": 7,
   "id": "8f8a29c8-7d18-4fc6-aed3-6e59f8b648df",
   "metadata": {
    "tags": []
   },
   "outputs": [],
   "source": [
    "prompt = \"Explain the idea of normal distribution in statistics in the form of a hip-hop rap song lyrics\""
   ]
  },
  {
   "cell_type": "code",
   "execution_count": 8,
   "id": "741044bd-ca69-4555-9543-5ef58f122328",
   "metadata": {
    "tags": []
   },
   "outputs": [],
   "source": [
    "body = json.dumps({'prompt': prompt, 'max_gen_len': 1024, 'temperature': 0.9, 'top_p': 1})"
   ]
  },
  {
   "cell_type": "code",
   "execution_count": 9,
   "id": "c03ccdbc-66f3-46f0-93b0-a0acaff8852c",
   "metadata": {},
   "outputs": [],
   "source": [
    "response = bedrock_runtime.invoke_model(body=body, modelId=\"meta.llama2-13b-chat-v1\")"
   ]
  },
  {
   "cell_type": "code",
   "execution_count": 10,
   "id": "26f3707c-3d7e-4756-976f-0169ceed8b70",
   "metadata": {},
   "outputs": [
    {
     "data": {
      "text/plain": [
       "{'ResponseMetadata': {'RequestId': 'ef6e5d5c-168e-4381-b771-d3b66e6aa233',\n",
       "  'HTTPStatusCode': 200,\n",
       "  'HTTPHeaders': {'date': 'Fri, 08 Mar 2024 04:41:59 GMT',\n",
       "   'content-type': 'application/json',\n",
       "   'content-length': '1441',\n",
       "   'connection': 'keep-alive',\n",
       "   'x-amzn-requestid': 'ef6e5d5c-168e-4381-b771-d3b66e6aa233',\n",
       "   'x-amzn-bedrock-invocation-latency': '11063',\n",
       "   'x-amzn-bedrock-output-token-count': '427',\n",
       "   'x-amzn-bedrock-input-token-count': '23'},\n",
       "  'RetryAttempts': 0},\n",
       " 'contentType': 'application/json',\n",
       " 'body': <botocore.response.StreamingBody at 0x144bd57c4f0>}"
      ]
     },
     "execution_count": 10,
     "metadata": {},
     "output_type": "execute_result"
    }
   ],
   "source": [
    "response"
   ]
  },
  {
   "cell_type": "code",
   "execution_count": 11,
   "id": "877f712a-fa21-4cf7-b30e-6bb6a651fb08",
   "metadata": {},
   "outputs": [],
   "source": [
    "response_body = json.loads(response.get('body').read())"
   ]
  },
  {
   "cell_type": "code",
   "execution_count": 13,
   "id": "2a30d467-4fe3-475a-b055-5cdd5b167b18",
   "metadata": {},
   "outputs": [
    {
     "data": {
      "text/plain": [
       "{'generation': \".\\n\\nVerse 1:\\nYo, listen up, let me tell you 'bout a curve,\\nIt's called normal distribution, ain't no time to be vague,\\nIn stats, we call it bell-shaped, it's a principle way,\\nData's spread out, like a bell on a bay.\\n\\nChorus:\\nNormal distribution, it's all about the bell,\\nData's spread out, and it follows well,\\nMean, median, and mode, all in one place,\\nNormal distribution, it's the stats ace.\\n\\nVerse 2:\\nIn a normal distribution, most values are in the middle,\\nA few are high, a few are low, it's all in the mold,\\nGraphically, it's a bell, that's a normal sight,\\nData's spread out, day and night.\\n\\nChorus:\\nNormal distribution, it's all about the bell,\\nData's spread out, and it follows well,\\nMean, median, and mode, all in one place,\\nNormal distribution, it's the stats ace.\\n\\nVerse 3:\\nNow, let's talk 'bout standard deviation, it's key,\\nIt tells us how spread out, the data's gonna be,\\nIn a normal distribution, it's a bell-shaped too,\\nThat's why it's so important, boo.\\n\\nChorus:\\nNormal distribution, it's all about the bell,\\nData's spread out, and it follows well,\\nMean, median, and mode, all in one place,\\nNormal distribution, it's the stats ace.\\n\\nOutro:\\nSo now you know 'bout normal distribution,\\nIt's a hip-hop rap, stats distribution,\\nIn stats, it's a principle way,\\nTo understand data, every single day!\",\n",
       " 'prompt_token_count': 23,\n",
       " 'generation_token_count': 427,\n",
       " 'stop_reason': 'stop'}"
      ]
     },
     "execution_count": 13,
     "metadata": {},
     "output_type": "execute_result"
    }
   ],
   "source": [
    "response_body"
   ]
  },
  {
   "cell_type": "code",
   "execution_count": 14,
   "id": "377e672d-47c7-47eb-9146-3ef5e58a6b70",
   "metadata": {
    "tags": []
   },
   "outputs": [
    {
     "name": "stdout",
     "output_type": "stream",
     "text": [
      ".\n",
      "\n",
      "Verse 1:\n",
      "Yo, listen up, let me tell you 'bout a curve,\n",
      "It's called normal distribution, ain't no time to be vague,\n",
      "In stats, we call it bell-shaped, it's a principle way,\n",
      "Data's spread out, like a bell on a bay.\n",
      "\n",
      "Chorus:\n",
      "Normal distribution, it's all about the bell,\n",
      "Data's spread out, and it follows well,\n",
      "Mean, median, and mode, all in one place,\n",
      "Normal distribution, it's the stats ace.\n",
      "\n",
      "Verse 2:\n",
      "In a normal distribution, most values are in the middle,\n",
      "A few are high, a few are low, it's all in the mold,\n",
      "Graphically, it's a bell, that's a normal sight,\n",
      "Data's spread out, day and night.\n",
      "\n",
      "Chorus:\n",
      "Normal distribution, it's all about the bell,\n",
      "Data's spread out, and it follows well,\n",
      "Mean, median, and mode, all in one place,\n",
      "Normal distribution, it's the stats ace.\n",
      "\n",
      "Verse 3:\n",
      "Now, let's talk 'bout standard deviation, it's key,\n",
      "It tells us how spread out, the data's gonna be,\n",
      "In a normal distribution, it's a bell-shaped too,\n",
      "That's why it's so important, boo.\n",
      "\n",
      "Chorus:\n",
      "Normal distribution, it's all about the bell,\n",
      "Data's spread out, and it follows well,\n",
      "Mean, median, and mode, all in one place,\n",
      "Normal distribution, it's the stats ace.\n",
      "\n",
      "Outro:\n",
      "So now you know 'bout normal distribution,\n",
      "It's a hip-hop rap, stats distribution,\n",
      "In stats, it's a principle way,\n",
      "To understand data, every single day!\n"
     ]
    }
   ],
   "source": [
    "print(response_body['generation'])"
   ]
  },
  {
   "cell_type": "code",
   "execution_count": null,
   "id": "189d985d-5905-42cc-a1d2-716e13ffcad1",
   "metadata": {},
   "outputs": [],
   "source": []
  }
 ],
 "metadata": {
  "kernelspec": {
   "display_name": "Python 3 (ipykernel)",
   "language": "python",
   "name": "python3"
  },
  "language_info": {
   "codemirror_mode": {
    "name": "ipython",
    "version": 3
   },
   "file_extension": ".py",
   "mimetype": "text/x-python",
   "name": "python",
   "nbconvert_exporter": "python",
   "pygments_lexer": "ipython3",
   "version": "3.11.3"
  }
 },
 "nbformat": 4,
 "nbformat_minor": 5
}
