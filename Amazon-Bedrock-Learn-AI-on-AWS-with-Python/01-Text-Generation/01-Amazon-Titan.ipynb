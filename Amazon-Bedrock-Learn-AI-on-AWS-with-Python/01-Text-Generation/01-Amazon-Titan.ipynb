{
 "cells": [
  {
   "cell_type": "markdown",
   "id": "ab3c342a-c013-49d7-9153-df2cb0c27217",
   "metadata": {
    "tags": []
   },
   "source": [
    "## Text Models with Amazon Bedrock"
   ]
  },
  {
   "cell_type": "markdown",
   "id": "97db80c9-7f2d-4af6-bb40-6754c252e955",
   "metadata": {
    "tags": []
   },
   "source": [
    "### Amazon Titan"
   ]
  },
  {
   "cell_type": "code",
   "execution_count": null,
   "id": "abd2f30f-7c3f-469a-baf8-495b14e9b68e",
   "metadata": {},
   "outputs": [],
   "source": [
    "import boto3"
   ]
  },
  {
   "cell_type": "code",
   "execution_count": null,
   "id": "4d0c993c-b481-4e2c-99f2-daf24b25ad32",
   "metadata": {},
   "outputs": [],
   "source": [
    "bedrock = boto3.client(service_name='bedrock', region_name='us-east')"
   ]
  },
  {
   "cell_type": "code",
   "execution_count": 5,
   "id": "a4edef95-4bf9-4a02-8ee2-da73b5424a92",
   "metadata": {
    "tags": []
   },
   "outputs": [],
   "source": [
    "# bedrock.list_foundation_models()"
   ]
  },
  {
   "cell_type": "code",
   "execution_count": 6,
   "id": "5199dd8e-69cc-4504-bb14-0e68ad53bf6b",
   "metadata": {
    "tags": []
   },
   "outputs": [
    {
     "data": {
      "text/plain": [
       "{'ResponseMetadata': {'RequestId': '70f9c3e7-5203-4a4f-9149-e74d26f014d7',\n",
       "  'HTTPStatusCode': 200,\n",
       "  'HTTPHeaders': {'date': 'Fri, 08 Mar 2024 03:45:57 GMT',\n",
       "   'content-type': 'application/json',\n",
       "   'content-length': '402',\n",
       "   'connection': 'keep-alive',\n",
       "   'x-amzn-requestid': '70f9c3e7-5203-4a4f-9149-e74d26f014d7'},\n",
       "  'RetryAttempts': 0},\n",
       " 'modelDetails': {'modelArn': 'arn:aws:bedrock:us-east-1::foundation-model/amazon.titan-text-express-v1',\n",
       "  'modelId': 'amazon.titan-text-express-v1',\n",
       "  'modelName': 'Titan Text G1 - Express',\n",
       "  'providerName': 'Amazon',\n",
       "  'inputModalities': ['TEXT'],\n",
       "  'outputModalities': ['TEXT'],\n",
       "  'responseStreamingSupported': True,\n",
       "  'customizationsSupported': [],\n",
       "  'inferenceTypesSupported': ['ON_DEMAND'],\n",
       "  'modelLifecycle': {'status': 'ACTIVE'}}}"
      ]
     },
     "execution_count": 6,
     "metadata": {},
     "output_type": "execute_result"
    }
   ],
   "source": [
    "bedrock.get_foundation_model(modelIdentifier='amazon.titan-text-express-v1')"
   ]
  },
  {
   "cell_type": "code",
   "execution_count": 8,
   "id": "5bfd4c94-3aa1-48a2-838e-f6d045014c65",
   "metadata": {
    "tags": []
   },
   "outputs": [],
   "source": [
    "question = 'What is capital of France?'"
   ]
  },
  {
   "cell_type": "code",
   "execution_count": 9,
   "id": "e62e0ba9-58fd-4c0d-a897-6dac285ab359",
   "metadata": {
    "tags": []
   },
   "outputs": [],
   "source": [
    "bedrock_runtime = boto3.client(region_name='us-east-1',\n",
    "                               service_name='bedrock-runtime')"
   ]
  },
  {
   "cell_type": "markdown",
   "id": "3970230d-6e04-44a0-a010-d2bc61ad3afb",
   "metadata": {},
   "source": [
    "```\n",
    "{\n",
    "  \"inputText\": string,\n",
    "  \"textGenerationConfig\": {\n",
    "      \"temperature\": float,\n",
    "      \"topP\": float,\n",
    "      \"maxTokenCount\": int,\n",
    "      \"stopSequence\": [string]\n",
    "  }\n",
    "}\n",
    "```"
   ]
  },
  {
   "cell_type": "code",
   "execution_count": 10,
   "id": "3eea76dd-3023-4bdc-a31e-41371feb027a",
   "metadata": {
    "tags": []
   },
   "outputs": [],
   "source": [
    "import json"
   ]
  },
  {
   "cell_type": "code",
   "execution_count": 11,
   "id": "81f0648b-60ac-4cd0-81f9-2072bc2c35a7",
   "metadata": {
    "tags": []
   },
   "outputs": [],
   "source": [
    "body = json.dumps({'inputText': question})"
   ]
  },
  {
   "cell_type": "code",
   "execution_count": 12,
   "id": "300cafa7-37f2-492c-95ae-0f77025963cb",
   "metadata": {
    "tags": []
   },
   "outputs": [
    {
     "data": {
      "text/plain": [
       "'{\"inputText\": \"What is capital of France?\"}'"
      ]
     },
     "execution_count": 12,
     "metadata": {},
     "output_type": "execute_result"
    }
   ],
   "source": [
    "body"
   ]
  },
  {
   "cell_type": "code",
   "execution_count": 13,
   "id": "bf0a6617-eb27-468c-a752-197f99674dd6",
   "metadata": {
    "tags": []
   },
   "outputs": [
    {
     "data": {
      "text/plain": [
       "str"
      ]
     },
     "execution_count": 13,
     "metadata": {},
     "output_type": "execute_result"
    }
   ],
   "source": [
    "type(body)"
   ]
  },
  {
   "cell_type": "code",
   "execution_count": 15,
   "id": "1fc591f5-db55-4324-a411-76a3d2ee63d3",
   "metadata": {
    "tags": []
   },
   "outputs": [],
   "source": [
    "response = bedrock_runtime.invoke_model(body=body,\n",
    "                                       modelId='amazon.titan-text-express-v1')"
   ]
  },
  {
   "cell_type": "code",
   "execution_count": 16,
   "id": "c54285e3-88d4-42a3-842b-723e0239ee49",
   "metadata": {
    "tags": []
   },
   "outputs": [],
   "source": [
    "response_body = json.loads(response.get('body').read())"
   ]
  },
  {
   "cell_type": "code",
   "execution_count": 17,
   "id": "a6da3b3f-5a9b-481b-828e-499610998f46",
   "metadata": {
    "tags": []
   },
   "outputs": [
    {
     "data": {
      "text/plain": [
       "{'inputTextTokenCount': 6,\n",
       " 'results': [{'tokenCount': 104,\n",
       "   'outputText': '\\nParis is the capital and most populous city of France. It has an official estimated population of 2,102,488 residents as of 1 January 2023 in an area of 105 km2 (41 sq mi). Known as the \"City of Light\" and the \"City of Love\", Paris is regarded as one of the most beautiful and iconic cities in the world, and it is often regarded as a cultural, financial, and fashion center. ',\n",
       "   'completionReason': 'FINISH'}]}"
      ]
     },
     "execution_count": 17,
     "metadata": {},
     "output_type": "execute_result"
    }
   ],
   "source": [
    "response_body"
   ]
  },
  {
   "cell_type": "code",
   "execution_count": 18,
   "id": "0e558ec0-12f4-4eae-b64b-a0d17836e792",
   "metadata": {
    "tags": []
   },
   "outputs": [
    {
     "name": "stdout",
     "output_type": "stream",
     "text": [
      "\n",
      "Paris is the capital and most populous city of France. It has an official estimated population of 2,102,488 residents as of 1 January 2023 in an area of 105 km2 (41 sq mi). Known as the \"City of Light\" and the \"City of Love\", Paris is regarded as one of the most beautiful and iconic cities in the world, and it is often regarded as a cultural, financial, and fashion center. \n"
     ]
    }
   ],
   "source": [
    "print(response_body['results'][0]['outputText'])"
   ]
  },
  {
   "cell_type": "code",
   "execution_count": 21,
   "id": "2c201c47-951c-4822-805e-660ee39f4aa0",
   "metadata": {
    "tags": []
   },
   "outputs": [],
   "source": [
    "body = json.dumps({'inputText': 'Tell me a story about a magic forest',\n",
    "                   'textGenerationConfig': {'temperature':0, 'topP':0.01, 'maxTokenCount':512}\n",
    "                  })"
   ]
  },
  {
   "cell_type": "code",
   "execution_count": 22,
   "id": "e8172480-2260-41b9-86fd-1d51448a544f",
   "metadata": {
    "tags": []
   },
   "outputs": [],
   "source": [
    "response = bedrock_runtime.invoke_model(body=body,\n",
    "                                       modelId='amazon.titan-text-express-v1')"
   ]
  },
  {
   "cell_type": "code",
   "execution_count": 23,
   "id": "b28efde7-18bd-4b2c-8130-9976f593b6cf",
   "metadata": {
    "tags": []
   },
   "outputs": [],
   "source": [
    "response_body = json.loads(response.get('body').read())"
   ]
  },
  {
   "cell_type": "code",
   "execution_count": 27,
   "id": "e2fd66d1-1da3-40e6-afd4-a3e1d0aa97c1",
   "metadata": {
    "tags": []
   },
   "outputs": [],
   "source": [
    "saved_story = response_body['results'][0]['outputText']"
   ]
  },
  {
   "cell_type": "code",
   "execution_count": 28,
   "id": "a9a0de80-843e-4d6d-95ba-f46dfce19e2e",
   "metadata": {
    "tags": []
   },
   "outputs": [
    {
     "name": "stdout",
     "output_type": "stream",
     "text": [
      "\n",
      "Once upon a time, in a faraway land, there was a magical forest. The forest was said to be home to all sorts of magical creatures, from fairies to unicorns to dragons. One day, a young girl named Lily stumbled upon the forest while on a walk with her parents. She was amazed by the beauty of the trees and the colors of the flowers. As she walked deeper into the forest, she saw a group of fairies dancing in a clearing. They were so beautiful that Lily couldn't help but stop and watch them. The fairies noticed her and invited her to join them in their dance. Lily was hesitant at first, but the fairies were so friendly and welcoming that she soon felt at ease. As the dance continued, Lily noticed that the fairies were using their magic to create a beautiful light show in the sky. The colors were so vibrant and alive that it felt like she was watching a painting come to life. The dance was over, and the fairies thanked Lily for joining them. They told her that the magical forest was their home and that they welcomed anyone who wanted to visit. From that day on, Lily visited the magical forest every day. She would spend hours exploring the trees and the flowers, watching the magical creatures, and dancing with the fairies. The forest became her favorite place in the world, and she never wanted to leave. As time went on, Lily grew up and moved away from the magical forest. But she never forgot the memories that she had made there. She would often return to the forest in her dreams, and she would always feel a sense of peace and happiness whenever she was there. The magical forest remained a mystery to the world, but to Lily, it was a place of wonder and magic that she would never forget.\n"
     ]
    }
   ],
   "source": [
    "print(saved_story)"
   ]
  },
  {
   "cell_type": "code",
   "execution_count": null,
   "id": "f373c2e1-ab6f-4fcc-a57f-703bf44a692f",
   "metadata": {},
   "outputs": [],
   "source": []
  }
 ],
 "metadata": {
  "kernelspec": {
   "display_name": "Python 3 (ipykernel)",
   "language": "python",
   "name": "python3"
  },
  "language_info": {
   "codemirror_mode": {
    "name": "ipython",
    "version": 3
   },
   "file_extension": ".py",
   "mimetype": "text/x-python",
   "name": "python",
   "nbconvert_exporter": "python",
   "pygments_lexer": "ipython3",
   "version": "3.11.3"
  }
 },
 "nbformat": 4,
 "nbformat_minor": 5
}
