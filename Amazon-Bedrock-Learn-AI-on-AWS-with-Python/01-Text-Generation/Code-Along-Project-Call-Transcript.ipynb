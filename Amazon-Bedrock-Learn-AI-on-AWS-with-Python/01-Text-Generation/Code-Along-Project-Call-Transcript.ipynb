{
 "cells": [
  {
   "cell_type": "markdown",
   "id": "0a90a10f-cd0b-401d-9677-7b48053d0245",
   "metadata": {},
   "source": [
    "## Text Models with Amazon Bedrock"
   ]
  },
  {
   "cell_type": "markdown",
   "id": "b0034940-38cf-43a2-849a-787b71159580",
   "metadata": {},
   "source": [
    "### Code Along Project - Call Transcript"
   ]
  },
  {
   "cell_type": "code",
   "execution_count": 5,
   "id": "d93928f2-d069-4a07-9cd3-cb79434fae2f",
   "metadata": {},
   "outputs": [],
   "source": [
    "with open('03-Call-Transcript.txt') as file:\n",
    "    transcript = file.read()"
   ]
  },
  {
   "cell_type": "code",
   "execution_count": 6,
   "id": "08b01e97-01d1-4b3f-8f6d-ec19be91b529",
   "metadata": {},
   "outputs": [
    {
     "name": "stdout",
     "output_type": "stream",
     "text": [
      "Mike Salesperson: Hello, this is Mike from SecureTech Solutions. May I speak with Claire?\n",
      "\n",
      "Claire Potential Client: Hi Mike, Claire here. What can I do for you today?\n",
      "\n",
      "Mike Salesperson: Hi Claire! I'm reaching out from SecureTech Solutions. I noticed your company's impressive growth and wanted to discuss your cybersecurity needs. Are you exploring new software solutions for this area?\n",
      "\n",
      "Claire Potential Client: Yes, Mike, we are. In fact, we're currently prioritizing enhancing our cybersecurity, especially around our SQL databases. What can SecureTech Solutions provide in this area?\n",
      "\n",
      "Mike Salesperson: That's a key area, Claire. We offer a robust cybersecurity suite, with special emphasis on SQL database security. Our services include advanced encryption methods, real-time threat monitoring, and custom solutions for database security.\n",
      "\n",
      "Claire Potential Client: That's exactly what we're looking for. How does your solution ensure the security of SQL databases specifically?\n",
      "\n",
      "Mike Salesperson: Our solution is designed to address the unique challenges of SQL database security. It includes features like AI-driven threat detection, which anticipates and neutralizes potential threats, and a layered security approach to protect against various types of cyber attacks, including SQL injections.\n",
      "\n",
      "Claire Potential Client: Sounds comprehensive. What about the implementation process? We have a complex system in place already.\n",
      "\n",
      "Mike Salesperson: Our software is engineered for compatibility and ease of integration with existing systems, including complex SQL databases. We also provide a dedicated support team to assist with the integration process, ensuring a smooth and efficient transition.\n",
      "\n",
      "Claire Potential Client: That's reassuring to hear. Could we also talk about customization options? Our needs are quite specific.\n",
      "\n",
      "Mike Salesperson: Absolutely. Our solutions are highly customizable. We can tailor the security features to align with your specific requirements, ensuring that your SQL databases are not just secure, but also optimized for performance.\n",
      "\n",
      "Claire Potential Client: Great. And how does your pricing model work?\n",
      "\n",
      "Mike Salesperson: Our pricing is flexible and based on the specific services you require. I can prepare a detailed quote and proposal tailored to your needs. Would it be helpful to have a call to discuss this in more detail?\n",
      "\n",
      "Claire Potential Client: Yes, that would be helpful. Could you send me an initial proposal and then we can set up a time to discuss it over a call?\n",
      "\n",
      "Mike Salesperson: Of course, Claire. I'll prepare and send an initial proposal covering our SQL database security solutions and pricing. I'll also include some potential times for our follow-up call. Is there a particular time or day that works best for you?\n",
      "\n",
      "Claire Potential Client: I'm generally free in the afternoons. If you send me a few options, I can confirm what works best.\n",
      "\n",
      "Mike Salesperson: Perfect. I'll include a few afternoon slots in my email. Before I let you go, are there any other specific areas of cybersecurity you're interested in?\n",
      "\n",
      "Claire Potential Client: Along with database security, we're also looking into enhancing our overall data protection and intrusion detection systems.\n",
      "\n",
      "Mike Salesperson: Understood. I'll make sure to include information on our comprehensive data protection and intrusion detection capabilities in the proposal. Thank you for your time today, Claire. You'll hear from me soon with the details.\n",
      "\n",
      "Claire Potential Client: Thank you, Mike. I appreciate the thoroughness. Looking forward to your email and our upcoming discussion. Have a good day!\n",
      "\n",
      "Mike Salesperson: You too, Claire. Goodbye!\n"
     ]
    }
   ],
   "source": [
    "print(transcript)"
   ]
  },
  {
   "cell_type": "code",
   "execution_count": 7,
   "id": "8395fb25-0589-48f9-bf74-851c0b474743",
   "metadata": {
    "tags": []
   },
   "outputs": [],
   "source": [
    "import boto3\n",
    "\n",
    "bedrock_runtime = boto3.client(region_name='us-east-1', service_name='bedrock-runtime')"
   ]
  },
  {
   "cell_type": "code",
   "execution_count": 28,
   "id": "ea07b47a-527e-4b1c-a16c-d7089354b245",
   "metadata": {
    "tags": []
   },
   "outputs": [],
   "source": [
    "# prompt = f\"Summarize this call transcript in 3 sentences and create a bullet point list of follow-up action items. Here is the transcript:\\n\\n{transcript}\"\n",
    "prompt = f\"Summarize this call transcript in just 3 sentences and create a bullet point list of follow-up action items for the salesperson:\\n\\n{transcript}\""
   ]
  },
  {
   "cell_type": "code",
   "execution_count": 29,
   "id": "c8705f05-b0b7-4ea4-8fe8-203b490554e1",
   "metadata": {
    "tags": []
   },
   "outputs": [
    {
     "name": "stdout",
     "output_type": "stream",
     "text": [
      "Summarize this call transcript in just 3 sentences and create a bullet point list of follow-up action items for the salesperson:\n",
      "\n",
      "Mike Salesperson: Hello, this is Mike from SecureTech Solutions. May I speak with Claire?\n",
      "\n",
      "Claire Potential Client: Hi Mike, Claire here. What can I do for you today?\n",
      "\n",
      "Mike Salesperson: Hi Claire! I'm reaching out from SecureTech Solutions. I noticed your company's impressive growth and wanted to discuss your cybersecurity needs. Are you exploring new software solutions for this area?\n",
      "\n",
      "Claire Potential Client: Yes, Mike, we are. In fact, we're currently prioritizing enhancing our cybersecurity, especially around our SQL databases. What can SecureTech Solutions provide in this area?\n",
      "\n",
      "Mike Salesperson: That's a key area, Claire. We offer a robust cybersecurity suite, with special emphasis on SQL database security. Our services include advanced encryption methods, real-time threat monitoring, and custom solutions for database security.\n",
      "\n",
      "Claire Potential Client: That's exactly what we're looking for. How does your solution ensure the security of SQL databases specifically?\n",
      "\n",
      "Mike Salesperson: Our solution is designed to address the unique challenges of SQL database security. It includes features like AI-driven threat detection, which anticipates and neutralizes potential threats, and a layered security approach to protect against various types of cyber attacks, including SQL injections.\n",
      "\n",
      "Claire Potential Client: Sounds comprehensive. What about the implementation process? We have a complex system in place already.\n",
      "\n",
      "Mike Salesperson: Our software is engineered for compatibility and ease of integration with existing systems, including complex SQL databases. We also provide a dedicated support team to assist with the integration process, ensuring a smooth and efficient transition.\n",
      "\n",
      "Claire Potential Client: That's reassuring to hear. Could we also talk about customization options? Our needs are quite specific.\n",
      "\n",
      "Mike Salesperson: Absolutely. Our solutions are highly customizable. We can tailor the security features to align with your specific requirements, ensuring that your SQL databases are not just secure, but also optimized for performance.\n",
      "\n",
      "Claire Potential Client: Great. And how does your pricing model work?\n",
      "\n",
      "Mike Salesperson: Our pricing is flexible and based on the specific services you require. I can prepare a detailed quote and proposal tailored to your needs. Would it be helpful to have a call to discuss this in more detail?\n",
      "\n",
      "Claire Potential Client: Yes, that would be helpful. Could you send me an initial proposal and then we can set up a time to discuss it over a call?\n",
      "\n",
      "Mike Salesperson: Of course, Claire. I'll prepare and send an initial proposal covering our SQL database security solutions and pricing. I'll also include some potential times for our follow-up call. Is there a particular time or day that works best for you?\n",
      "\n",
      "Claire Potential Client: I'm generally free in the afternoons. If you send me a few options, I can confirm what works best.\n",
      "\n",
      "Mike Salesperson: Perfect. I'll include a few afternoon slots in my email. Before I let you go, are there any other specific areas of cybersecurity you're interested in?\n",
      "\n",
      "Claire Potential Client: Along with database security, we're also looking into enhancing our overall data protection and intrusion detection systems.\n",
      "\n",
      "Mike Salesperson: Understood. I'll make sure to include information on our comprehensive data protection and intrusion detection capabilities in the proposal. Thank you for your time today, Claire. You'll hear from me soon with the details.\n",
      "\n",
      "Claire Potential Client: Thank you, Mike. I appreciate the thoroughness. Looking forward to your email and our upcoming discussion. Have a good day!\n",
      "\n",
      "Mike Salesperson: You too, Claire. Goodbye!\n"
     ]
    }
   ],
   "source": [
    "print(prompt)"
   ]
  },
  {
   "cell_type": "code",
   "execution_count": 30,
   "id": "24742647-e035-4152-b9b3-2502e1e36aa9",
   "metadata": {
    "tags": []
   },
   "outputs": [],
   "source": [
    "import json"
   ]
  },
  {
   "cell_type": "code",
   "execution_count": 43,
   "id": "21953839-fd30-481f-88ea-0303672ff4c9",
   "metadata": {
    "tags": []
   },
   "outputs": [],
   "source": [
    "body = json.dumps({'inputText': prompt,\n",
    "                  'textGenerationConfig': {\n",
    "                      'temperature':0, 'maxTokenCount':1500}\n",
    "                  })"
   ]
  },
  {
   "cell_type": "code",
   "execution_count": 44,
   "id": "9fe7d57b-fb8f-4875-8f07-0f8a94c6fdbf",
   "metadata": {
    "tags": []
   },
   "outputs": [],
   "source": [
    "response = bedrock_runtime.invoke_model(body=body,\n",
    "                                        modelId='amazon.titan-text-express-v1')"
   ]
  },
  {
   "cell_type": "code",
   "execution_count": 45,
   "id": "a3449c2f-7564-483e-b975-5ba079574cd7",
   "metadata": {
    "tags": []
   },
   "outputs": [],
   "source": [
    "response_body = json.loads(response.get('body').read())"
   ]
  },
  {
   "cell_type": "code",
   "execution_count": 46,
   "id": "3c642c9b-cd20-4b24-8b35-2eb06da44a32",
   "metadata": {
    "tags": []
   },
   "outputs": [
    {
     "data": {
      "text/plain": [
       "{'inputTextTokenCount': 776,\n",
       " 'results': [{'tokenCount': 365,\n",
       "   'outputText': \"\\nHere is a summary of the call transcript:\\n• Mike Salesperson from SecureTech Solutions reached out to Claire, a potential client, to discuss their cybersecurity needs.\\n• Claire expressed their priority in enhancing their cybersecurity, particularly around their SQL databases.\\n• Mike explained that SecureTech Solutions offers a robust cybersecurity suite with specialized emphasis on SQL database security.\\n• He highlighted features such as advanced encryption methods, real-time threat monitoring, and custom solutions for database security.\\n• Claire expressed interest in the comprehensive nature of SecureTech Solutions' solution and the ease of integration with their existing complex system.\\n• Mike assured Claire that their software is engineered for compatibility and ease of integration, and they provide a dedicated support team to assist with the implementation process.\\n• Claire inquired about customization options, to which Mike confirmed that their solutions are highly customizable to align with specific requirements.\\n• They discussed pricing, with Mike offering a flexible and tailored quote based on the services required.\\n• Claire requested an initial proposal and agreed to schedule a follow-up call to discuss the details further.\\n• Mike mentioned that they would include information on their comprehensive data protection and intrusion detection capabilities in the proposal.\\n• Claire expressed gratitude for the thoroughness of the discussion and looked forward to receiving the email and the upcoming discussion.\\n\\nHere is a list of follow-up action items for the salesperson:\\n• Prepare and send an initial proposal covering SQL database security solutions and pricing.\\n• Schedule a follow-up call with Claire to discuss the proposal in more detail.\\n• Include information on comprehensive data protection and intrusion detection capabilities in the proposal.\\n• Follow up with Claire regarding any additional questions or concerns they may have.\\n• Continuously engage with Claire to build a relationship and explore potential opportunities for collaboration.\",\n",
       "   'completionReason': 'FINISH'}]}"
      ]
     },
     "execution_count": 46,
     "metadata": {},
     "output_type": "execute_result"
    }
   ],
   "source": [
    "response_body"
   ]
  },
  {
   "cell_type": "code",
   "execution_count": 47,
   "id": "79de6783-32f0-4b98-bfd2-c8f98d91398d",
   "metadata": {
    "tags": []
   },
   "outputs": [
    {
     "data": {
      "text/plain": [
       "[{'tokenCount': 365,\n",
       "  'outputText': \"\\nHere is a summary of the call transcript:\\n• Mike Salesperson from SecureTech Solutions reached out to Claire, a potential client, to discuss their cybersecurity needs.\\n• Claire expressed their priority in enhancing their cybersecurity, particularly around their SQL databases.\\n• Mike explained that SecureTech Solutions offers a robust cybersecurity suite with specialized emphasis on SQL database security.\\n• He highlighted features such as advanced encryption methods, real-time threat monitoring, and custom solutions for database security.\\n• Claire expressed interest in the comprehensive nature of SecureTech Solutions' solution and the ease of integration with their existing complex system.\\n• Mike assured Claire that their software is engineered for compatibility and ease of integration, and they provide a dedicated support team to assist with the implementation process.\\n• Claire inquired about customization options, to which Mike confirmed that their solutions are highly customizable to align with specific requirements.\\n• They discussed pricing, with Mike offering a flexible and tailored quote based on the services required.\\n• Claire requested an initial proposal and agreed to schedule a follow-up call to discuss the details further.\\n• Mike mentioned that they would include information on their comprehensive data protection and intrusion detection capabilities in the proposal.\\n• Claire expressed gratitude for the thoroughness of the discussion and looked forward to receiving the email and the upcoming discussion.\\n\\nHere is a list of follow-up action items for the salesperson:\\n• Prepare and send an initial proposal covering SQL database security solutions and pricing.\\n• Schedule a follow-up call with Claire to discuss the proposal in more detail.\\n• Include information on comprehensive data protection and intrusion detection capabilities in the proposal.\\n• Follow up with Claire regarding any additional questions or concerns they may have.\\n• Continuously engage with Claire to build a relationship and explore potential opportunities for collaboration.\",\n",
       "  'completionReason': 'FINISH'}]"
      ]
     },
     "execution_count": 47,
     "metadata": {},
     "output_type": "execute_result"
    }
   ],
   "source": [
    "response_body['results']"
   ]
  },
  {
   "cell_type": "code",
   "execution_count": 48,
   "id": "e4b38e40-6bcd-49a5-b90d-7a95338738ad",
   "metadata": {
    "tags": []
   },
   "outputs": [
    {
     "name": "stdout",
     "output_type": "stream",
     "text": [
      "\n",
      "Here is a summary of the call transcript:\n",
      "• Mike Salesperson from SecureTech Solutions reached out to Claire, a potential client, to discuss their cybersecurity needs.\n",
      "• Claire expressed their priority in enhancing their cybersecurity, particularly around their SQL databases.\n",
      "• Mike explained that SecureTech Solutions offers a robust cybersecurity suite with specialized emphasis on SQL database security.\n",
      "• He highlighted features such as advanced encryption methods, real-time threat monitoring, and custom solutions for database security.\n",
      "• Claire expressed interest in the comprehensive nature of SecureTech Solutions' solution and the ease of integration with their existing complex system.\n",
      "• Mike assured Claire that their software is engineered for compatibility and ease of integration, and they provide a dedicated support team to assist with the implementation process.\n",
      "• Claire inquired about customization options, to which Mike confirmed that their solutions are highly customizable to align with specific requirements.\n",
      "• They discussed pricing, with Mike offering a flexible and tailored quote based on the services required.\n",
      "• Claire requested an initial proposal and agreed to schedule a follow-up call to discuss the details further.\n",
      "• Mike mentioned that they would include information on their comprehensive data protection and intrusion detection capabilities in the proposal.\n",
      "• Claire expressed gratitude for the thoroughness of the discussion and looked forward to receiving the email and the upcoming discussion.\n",
      "\n",
      "Here is a list of follow-up action items for the salesperson:\n",
      "• Prepare and send an initial proposal covering SQL database security solutions and pricing.\n",
      "• Schedule a follow-up call with Claire to discuss the proposal in more detail.\n",
      "• Include information on comprehensive data protection and intrusion detection capabilities in the proposal.\n",
      "• Follow up with Claire regarding any additional questions or concerns they may have.\n",
      "• Continuously engage with Claire to build a relationship and explore potential opportunities for collaboration.\n"
     ]
    }
   ],
   "source": [
    "print(response_body['results'][0]['outputText'])"
   ]
  },
  {
   "cell_type": "code",
   "execution_count": null,
   "id": "07ecf6c4-a867-48bb-b727-b7c8ca53cb71",
   "metadata": {},
   "outputs": [],
   "source": []
  }
 ],
 "metadata": {
  "kernelspec": {
   "display_name": "Python 3 (ipykernel)",
   "language": "python",
   "name": "python3"
  },
  "language_info": {
   "codemirror_mode": {
    "name": "ipython",
    "version": 3
   },
   "file_extension": ".py",
   "mimetype": "text/x-python",
   "name": "python",
   "nbconvert_exporter": "python",
   "pygments_lexer": "ipython3",
   "version": "3.11.3"
  }
 },
 "nbformat": 4,
 "nbformat_minor": 5
}
