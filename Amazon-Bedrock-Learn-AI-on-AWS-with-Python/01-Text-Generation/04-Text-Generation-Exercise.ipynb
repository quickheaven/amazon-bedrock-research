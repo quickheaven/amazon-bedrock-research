{
 "cells": [
  {
   "cell_type": "markdown",
   "id": "99063c68-3f97-4dbc-8881-a1be7fa00d3b",
   "metadata": {},
   "source": [
    "# Text Generation Exercise \n",
    "\n",
    "# GOAL: Using LLMs, create a program that can read in a PDF and create a simplified explanation.\n",
    "### COMPLETE THE TASKS BELOW, NOTE SOME CELLS ARE ALREADY FILLED OUT FOR YOU"
   ]
  },
  {
   "cell_type": "markdown",
   "id": "a2050cd3-5238-49fd-bd07-f043e22d017f",
   "metadata": {},
   "source": [
    "----"
   ]
  },
  {
   "cell_type": "markdown",
   "id": "5342c2c2-5bb2-4432-8185-8a1f4640070c",
   "metadata": {},
   "source": [
    "## TASK: Install PyPDF2 Library if you do not have it already. Hint: https://pypdf2.readthedocs.io/en/3.0.0/user/installation.html"
   ]
  },
  {
   "cell_type": "code",
   "execution_count": 1,
   "id": "36891108-59a1-4c82-a0ee-e02175b0d810",
   "metadata": {},
   "outputs": [],
   "source": [
    "#Install Here with !pip install library_name or Install at Command Line"
   ]
  },
  {
   "cell_type": "code",
   "execution_count": 2,
   "id": "a493adc3-6add-44db-9d15-4406040c598b",
   "metadata": {
    "tags": []
   },
   "outputs": [
    {
     "name": "stdout",
     "output_type": "stream",
     "text": [
      "Defaulting to user installation because normal site-packages is not writeable\n",
      "Requirement already satisfied: PyPDF2 in c:\\users\\acristobal\\appdata\\roaming\\python\\python311\\site-packages (3.0.1)\n"
     ]
    }
   ],
   "source": [
    "!pip install PyPDF2"
   ]
  },
  {
   "cell_type": "markdown",
   "id": "17d21095-6ad8-4139-9360-378ebd449032",
   "metadata": {},
   "source": [
    "## TASK: Write a function that uses PyPDF2 Library to Read in the Corporate_Travel_Policy.pdf file text as a string.\n",
    "\n",
    "Hint: This PDF only has one single page, so index 0 is the only page you need to read.\n",
    "\n",
    "Hint: Reading in PDFs usually causes some issues, see if you can fix this by replace \\n with just a whitespace. Use the .replace() method for this. Remember you care more about content than true formatting for the LLM.\n",
    "\n",
    "Hint: https://pypdf2.readthedocs.io/en/3.0.0/user/extract-text.html"
   ]
  },
  {
   "cell_type": "code",
   "execution_count": 3,
   "id": "7f3fe47b-a457-4457-b2ef-57214bffb07b",
   "metadata": {},
   "outputs": [],
   "source": [
    "# CODE HERE"
   ]
  },
  {
   "cell_type": "code",
   "execution_count": 4,
   "id": "0e124cb5-5a0a-45d9-b09b-50bc3d439a57",
   "metadata": {
    "tags": []
   },
   "outputs": [],
   "source": [
    "from PyPDF2 import PdfReader\n",
    "\n",
    "def read_pdf_text(pdf_filepath):\n",
    "    reader = PdfReader(pdf_filepath)\n",
    "    page = reader.pages[0]\n",
    "    return page.extract_text().replace('\\n', ' ')"
   ]
  },
  {
   "cell_type": "code",
   "execution_count": 5,
   "id": "c6089a87-971b-4df0-b878-1783ee6b0b91",
   "metadata": {
    "tags": []
   },
   "outputs": [],
   "source": [
    "result = read_pdf_text(\"Corporate_Travel_Policy.pdf\")"
   ]
  },
  {
   "cell_type": "code",
   "execution_count": 6,
   "id": "9becd28d-975c-441c-a018-44fdbeb4db89",
   "metadata": {
    "tags": []
   },
   "outputs": [
    {
     "name": "stdout",
     "output_type": "stream",
     "text": [
      "Corporate Travel and Time Off Policy Introduction This policy establishes clear guidelines and procedures for time off and corporate travel for employees. It aims to ensure fair and consistent application throughout the organization while supporting operational needs. Annual Paid Time Off (PTO) Entitlement ● PTO Allocation: All employees receive five weeks (25 working days) of PTO per calendar year . ● Accrual of PTO: PTO accrues monthly based on the annual entitlement. ● Carryover: Unused PTO cannot be carried over to the next year . Employees are encouraged to utilize their PTO within the accrual year . Time Off Beyond PTO ● Managerial Approval: Additional time off beyond the allocated five weeks requires prior approval from the employee's direct manager . ● Request Procedure: Submit time off requests at least four weeks in advance for any period exceeding annual PTO. ● Considerations for Approval: Managers will assess the operational impact, employee performance and attendance, and reason for additional time off. ● Unapproved Time Off: Unapproved time off beyond allocated PTO may result in disciplinary action. Corporate Travel ● Travel Approval: All corporate travel requires pre-approval from the employee's manager and the travel department. ● Travel Arrangements: Use the company's designated travel agency for booking flights, accommodation, and ground transportation. ● Travel Expense Policy: Follow the company's travel expense policy regarding permissible expenses and reimbursement procedures. ● International Travel: Ensure valid travel documents and adherence to company-issued travel advisories when traveling internationally .\n"
     ]
    }
   ],
   "source": [
    "print(result)"
   ]
  },
  {
   "cell_type": "code",
   "execution_count": null,
   "id": "a99fef2a-1a73-45be-943c-08f4d67d224e",
   "metadata": {},
   "outputs": [],
   "source": []
  },
  {
   "cell_type": "markdown",
   "id": "959bcd3a-b761-445f-9968-36443dce30ca",
   "metadata": {},
   "source": [
    "----"
   ]
  },
  {
   "cell_type": "markdown",
   "id": "8ffe2bfe-bb68-4ee1-8878-a8b5ae40213e",
   "metadata": {},
   "source": [
    "## TASK: Establish a connection to Amazon Bedrock Runtime"
   ]
  },
  {
   "cell_type": "code",
   "execution_count": 7,
   "id": "100f7574-d499-4536-87b9-76d5dc1d0caa",
   "metadata": {},
   "outputs": [],
   "source": [
    "# CODE HERE"
   ]
  },
  {
   "cell_type": "code",
   "execution_count": 8,
   "id": "ee79c51d-a862-4fa1-b0e5-d7d61b1f2d15",
   "metadata": {
    "tags": []
   },
   "outputs": [],
   "source": [
    "import boto3\n",
    "\n",
    "bedrock_runtime = boto3.client(region_name='us-east-1', service_name='bedrock-runtime')"
   ]
  },
  {
   "cell_type": "markdown",
   "id": "ac62181a-d6aa-4efd-b2e2-f4e0c378ccc7",
   "metadata": {},
   "source": [
    "## TASK: Engineer a Prompt that takes in a user question about the PDF text and then inserts the text as context.\n",
    "\n",
    "**For an example user question, try: \"How many working days of PTO do employees get?\"**"
   ]
  },
  {
   "cell_type": "code",
   "execution_count": 9,
   "id": "0d1bf836-1621-492f-b762-c870af7aaa57",
   "metadata": {},
   "outputs": [],
   "source": [
    "#CODE HERE"
   ]
  },
  {
   "cell_type": "code",
   "execution_count": 10,
   "id": "c3370dca-6c0a-4f48-a272-d4da6980e2de",
   "metadata": {
    "tags": []
   },
   "outputs": [],
   "source": [
    "pdf_text = read_pdf_text('Corporate_Travel_Policy.pdf')\n",
    "user_question = \"How many working days of PTO do employees get?\""
   ]
  },
  {
   "cell_type": "code",
   "execution_count": 11,
   "id": "d56cd225-1047-4deb-bfe2-1cb9a8cade78",
   "metadata": {
    "tags": []
   },
   "outputs": [],
   "source": [
    "prompt = f\"Answer the following questions: {user_question}. Here is the reference text:\\n{pdf_text}\""
   ]
  },
  {
   "cell_type": "markdown",
   "id": "f1d22f48-8c93-4cc2-be12-6970faf7f145",
   "metadata": {},
   "source": [
    "## TASK: Test your prompt by calling it with an Amazon Bedrock Model, choose any model you prefer."
   ]
  },
  {
   "cell_type": "code",
   "execution_count": 12,
   "id": "801ffb57-0374-4b80-a26e-f965c083769c",
   "metadata": {},
   "outputs": [],
   "source": [
    "# CODE HERE"
   ]
  },
  {
   "cell_type": "code",
   "execution_count": 13,
   "id": "2292a541-d587-49e9-bd39-ca3aeef3b4aa",
   "metadata": {
    "tags": []
   },
   "outputs": [],
   "source": [
    "import json\n",
    "\n",
    "body = json.dumps({'inputText': prompt, 'textGenerationConfig': {'temperature':0, 'maxTokenCount':4096}})"
   ]
  },
  {
   "cell_type": "code",
   "execution_count": 14,
   "id": "5d30ebd9-87bd-4c2f-aa14-6cc4ac4236f4",
   "metadata": {
    "tags": []
   },
   "outputs": [
    {
     "name": "stdout",
     "output_type": "stream",
     "text": [
      " It is important to note that these policies are subject to change and may be modified by the company based on business needs and legal requirements.\n"
     ]
    }
   ],
   "source": [
    "response = bedrock_runtime.invoke_model(body=body, modelId='amazon.titan-text-express-v1')\n",
    "response_body = json.loads(response.get('body').read())\n",
    "print(response_body['results'][0]['outputText'])"
   ]
  },
  {
   "cell_type": "markdown",
   "id": "cd700be9-510d-490b-aa62-815c5e744bc6",
   "metadata": {},
   "source": [
    "## OPTIONAL TASK: Create one single function that takes in a PDF and a user question, then returns the answer via the LLM call. Basically just create a single function out of everything you just did above."
   ]
  },
  {
   "cell_type": "code",
   "execution_count": 15,
   "id": "f28c5d43-bc9d-4197-bc6b-87220abddbe1",
   "metadata": {},
   "outputs": [],
   "source": [
    "# COMBINE ALL YOUR CODE HERE TO ONE NICE FUNCTION"
   ]
  },
  {
   "cell_type": "code",
   "execution_count": 17,
   "id": "bbf572c9-5808-447f-9fc1-85cadbc2b77d",
   "metadata": {
    "tags": []
   },
   "outputs": [],
   "source": [
    "from PyPDF2 import PdfReader\n",
    "\n",
    "def answer_with_context(user_question,pdf_filepath):\n",
    "    \n",
    "    reader = PdfReader(pdf_filepath)\n",
    "    page = reader.pages[0]\n",
    "    pdf_text = page.extract_text().replace('\\n',' ')\n",
    "    \n",
    "    prompt = f\"Answer the following question: {user_question}. Here is the reference text:\\n{pdf_text}\"\n",
    "    \n",
    "    body = json.dumps({\n",
    "    \"inputText\": prompt,\n",
    "    \"textGenerationConfig\": {\n",
    "        \"temperature\": 0,\n",
    "        \"maxTokenCount\": 4096\n",
    "        }\n",
    "    })\n",
    "    \n",
    "    response = bedrock_runtime.invoke_model(body=body, modelId=\"amazon.titan-text-express-v1\")\n",
    "    response_body = json.loads(response.get('body').read())\n",
    "    return response_body[\"results\"][0][\"outputText\"]"
   ]
  },
  {
   "cell_type": "code",
   "execution_count": 18,
   "id": "35340bd7-24ac-4abd-a06f-2f16664a8947",
   "metadata": {},
   "outputs": [
    {
     "name": "stdout",
     "output_type": "stream",
     "text": [
      " By adhering to these policies, we can ensure that time off and corporate travel are managed effectively, promoting work-life balance, employee satisfaction, and efficient operations within the organization.\n"
     ]
    }
   ],
   "source": [
    "result = answer_with_context(\"How many working days of PTO do employees get per year?\", \"Corporate_Travel_Policy.pdf\")\n",
    "print(result)"
   ]
  },
  {
   "cell_type": "code",
   "execution_count": null,
   "id": "63f86ce2-1f7f-43dd-96df-628a5defca5a",
   "metadata": {},
   "outputs": [],
   "source": []
  }
 ],
 "metadata": {
  "kernelspec": {
   "display_name": "Python 3 (ipykernel)",
   "language": "python",
   "name": "python3"
  },
  "language_info": {
   "codemirror_mode": {
    "name": "ipython",
    "version": 3
   },
   "file_extension": ".py",
   "mimetype": "text/x-python",
   "name": "python",
   "nbconvert_exporter": "python",
   "pygments_lexer": "ipython3",
   "version": "3.11.3"
  }
 },
 "nbformat": 4,
 "nbformat_minor": 5
}
