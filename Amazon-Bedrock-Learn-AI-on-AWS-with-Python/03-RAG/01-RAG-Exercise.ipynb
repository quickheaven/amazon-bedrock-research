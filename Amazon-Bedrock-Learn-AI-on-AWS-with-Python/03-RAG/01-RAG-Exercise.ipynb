{
 "cells": [
  {
   "cell_type": "markdown",
   "id": "972fb494-4b4a-4b04-bdbe-e581d7531c42",
   "metadata": {},
   "source": [
    "# RAG - Exercise Solution\n",
    "\n",
    "## Goal: Embed a few text documents into vectors and then use them via RAG to help answer user questions about sport events."
   ]
  },
  {
   "cell_type": "markdown",
   "id": "ecece2bd-041f-41da-b20a-736a8821c0ce",
   "metadata": {},
   "source": [
    "### Complete the tasks below"
   ]
  },
  {
   "cell_type": "markdown",
   "id": "73b0be75-5c62-4021-aa06-876c0ce3b6b1",
   "metadata": {},
   "source": [
    "### TASK: Create a boto3 client connection to bedrock-runtime"
   ]
  },
  {
   "cell_type": "code",
   "execution_count": 1,
   "id": "b99f22dd-23e5-4996-93cb-c1330e09eae6",
   "metadata": {},
   "outputs": [],
   "source": [
    "# CODE HERE"
   ]
  },
  {
   "cell_type": "code",
   "execution_count": 2,
   "id": "54688ec8-4d91-41eb-b951-3269c069af36",
   "metadata": {
    "tags": []
   },
   "outputs": [],
   "source": [
    "import boto3\n",
    "\n",
    "bedrock_runtime = boto3.client(region_name='us-east-1', service_name='bedrock-runtime')"
   ]
  },
  {
   "cell_type": "markdown",
   "id": "ed73c391-30d6-4ccc-91a6-4560b786042b",
   "metadata": {},
   "source": [
    "### TASK: Create a function that takes in text and returns the Titan Embedding."
   ]
  },
  {
   "cell_type": "code",
   "execution_count": 3,
   "id": "1c683d4c-0d2d-4793-b466-e81b77f5dc18",
   "metadata": {
    "tags": []
   },
   "outputs": [],
   "source": [
    "# Code Here\n",
    "import json\n",
    "\n",
    "def embed_text(text):\n",
    "    '''\n",
    "    INPUT: str text\n",
    "    OUTPUT: an embedding, either Python list or Numpy Array\n",
    "    '''\n",
    "    json_request = {'inputText': text}\n",
    "    body = json.dumps(json_request)\n",
    "    response = bedrock_runtime.invoke_model(body=body, modelId='amazon.titan-embed-text-v1')\n",
    "    return json.loads(response.get('body').read())['embedding']"
   ]
  },
  {
   "cell_type": "code",
   "execution_count": 4,
   "id": "7d46812b-9c1f-45b1-b1ed-72367a265525",
   "metadata": {
    "tags": []
   },
   "outputs": [],
   "source": [
    "#embed_text('hello how are you')"
   ]
  },
  {
   "cell_type": "markdown",
   "id": "38eb2619-d5e4-4d2d-b47a-7e9e41317549",
   "metadata": {},
   "source": [
    "### TASK: Using pandas and the os library, open the directory \"00-Sports-Articles\" and read in the text from each .txt file as a string and insert it along with its filename into a Pandas DataFrame.\n",
    "\n",
    "Hint to loop through a directory of files: https://pieriantraining.com/iterate-over-files-in-directory-using-python/\n",
    "\n",
    "Hint on how to add a new row to a dataframe: \n",
    "https://stackoverflow.com/questions/10715965/create-a-pandas-dataframe-by-appending-one-row-at-a-time\n",
    "https://pandas.pydata.org/docs/reference/api/pandas.concat.html"
   ]
  },
  {
   "cell_type": "code",
   "execution_count": 5,
   "id": "4d59316f-a52d-48f4-9367-53eaf884c3a7",
   "metadata": {
    "tags": []
   },
   "outputs": [],
   "source": [
    "# CODE HERE\n",
    "\n",
    "import os\n",
    "import pandas as pd\n",
    "\n",
    "# Path to the directory\n",
    "directory_path = \"00-Sports-Articles\"\n",
    "\n",
    "data = []\n",
    "for filename in os.listdir(directory_path):\n",
    "    if filename.endswith('.txt'):\n",
    "        file_path = os.path.join(directory_path, filename)\n",
    "        \n",
    "        with open (file_path, 'r', encoding='utf-8') as file:\n",
    "            content = file.read()\n",
    "        data.append([filename, content])\n"
   ]
  },
  {
   "cell_type": "code",
   "execution_count": 6,
   "id": "9f3789c9-0308-4d67-94ee-cfb841f221fd",
   "metadata": {
    "tags": []
   },
   "outputs": [],
   "source": [
    "df = pd.DataFrame(data, columns=['filename', 'text'])"
   ]
  },
  {
   "cell_type": "code",
   "execution_count": 7,
   "id": "89c97c85-441b-4f55-a958-e43c629deea7",
   "metadata": {
    "tags": []
   },
   "outputs": [
    {
     "data": {
      "text/html": [
       "<div>\n",
       "<style scoped>\n",
       "    .dataframe tbody tr th:only-of-type {\n",
       "        vertical-align: middle;\n",
       "    }\n",
       "\n",
       "    .dataframe tbody tr th {\n",
       "        vertical-align: top;\n",
       "    }\n",
       "\n",
       "    .dataframe thead th {\n",
       "        text-align: right;\n",
       "    }\n",
       "</style>\n",
       "<table border=\"1\" class=\"dataframe\">\n",
       "  <thead>\n",
       "    <tr style=\"text-align: right;\">\n",
       "      <th></th>\n",
       "      <th>filename</th>\n",
       "      <th>text</th>\n",
       "    </tr>\n",
       "  </thead>\n",
       "  <tbody>\n",
       "    <tr>\n",
       "      <th>0</th>\n",
       "      <td>BaseballGame.txt</td>\n",
       "      <td>Extra-Inning Thriller: Yankees Outlast Red Sox...</td>\n",
       "    </tr>\n",
       "    <tr>\n",
       "      <th>1</th>\n",
       "      <td>BasketballGame.txt</td>\n",
       "      <td>Nail-Biting Overtime Battle Sees Lakers Triump...</td>\n",
       "    </tr>\n",
       "    <tr>\n",
       "      <th>2</th>\n",
       "      <td>FootballGame.txt</td>\n",
       "      <td>Epic Clash between 49ers and Buccaneers Ends i...</td>\n",
       "    </tr>\n",
       "  </tbody>\n",
       "</table>\n",
       "</div>"
      ],
      "text/plain": [
       "             filename                                               text\n",
       "0    BaseballGame.txt  Extra-Inning Thriller: Yankees Outlast Red Sox...\n",
       "1  BasketballGame.txt  Nail-Biting Overtime Battle Sees Lakers Triump...\n",
       "2    FootballGame.txt  Epic Clash between 49ers and Buccaneers Ends i..."
      ]
     },
     "execution_count": 7,
     "metadata": {},
     "output_type": "execute_result"
    }
   ],
   "source": [
    "df"
   ]
  },
  {
   "cell_type": "markdown",
   "id": "956f7363-2f9e-461b-a0f0-c6c8670361e6",
   "metadata": {},
   "source": [
    "### TASK: Apply your Text Embedding function to create a new column in the dataframe of the vector embedding of the text column."
   ]
  },
  {
   "cell_type": "code",
   "execution_count": 8,
   "id": "49052415-7f6e-4c29-8dcc-56a1f8ea1538",
   "metadata": {
    "tags": []
   },
   "outputs": [],
   "source": [
    "# CODE HERE\n",
    "\n",
    "df['embedding'] = df['text'].apply(embed_text)"
   ]
  },
  {
   "cell_type": "code",
   "execution_count": 9,
   "id": "cd4c089d-a3b4-4dc2-8f82-cb80e9312042",
   "metadata": {
    "tags": []
   },
   "outputs": [
    {
     "data": {
      "text/html": [
       "<div>\n",
       "<style scoped>\n",
       "    .dataframe tbody tr th:only-of-type {\n",
       "        vertical-align: middle;\n",
       "    }\n",
       "\n",
       "    .dataframe tbody tr th {\n",
       "        vertical-align: top;\n",
       "    }\n",
       "\n",
       "    .dataframe thead th {\n",
       "        text-align: right;\n",
       "    }\n",
       "</style>\n",
       "<table border=\"1\" class=\"dataframe\">\n",
       "  <thead>\n",
       "    <tr style=\"text-align: right;\">\n",
       "      <th></th>\n",
       "      <th>filename</th>\n",
       "      <th>text</th>\n",
       "      <th>embedding</th>\n",
       "    </tr>\n",
       "  </thead>\n",
       "  <tbody>\n",
       "    <tr>\n",
       "      <th>0</th>\n",
       "      <td>BaseballGame.txt</td>\n",
       "      <td>Extra-Inning Thriller: Yankees Outlast Red Sox...</td>\n",
       "      <td>[0.2353478, -0.14758441, -0.22002964, -0.30111...</td>\n",
       "    </tr>\n",
       "    <tr>\n",
       "      <th>1</th>\n",
       "      <td>BasketballGame.txt</td>\n",
       "      <td>Nail-Biting Overtime Battle Sees Lakers Triump...</td>\n",
       "      <td>[-0.063942306, 0.14368992, -0.018919019, -0.17...</td>\n",
       "    </tr>\n",
       "    <tr>\n",
       "      <th>2</th>\n",
       "      <td>FootballGame.txt</td>\n",
       "      <td>Epic Clash between 49ers and Buccaneers Ends i...</td>\n",
       "      <td>[-0.48678175, -0.11641871, -0.38582614, 0.0014...</td>\n",
       "    </tr>\n",
       "  </tbody>\n",
       "</table>\n",
       "</div>"
      ],
      "text/plain": [
       "             filename                                               text  \\\n",
       "0    BaseballGame.txt  Extra-Inning Thriller: Yankees Outlast Red Sox...   \n",
       "1  BasketballGame.txt  Nail-Biting Overtime Battle Sees Lakers Triump...   \n",
       "2    FootballGame.txt  Epic Clash between 49ers and Buccaneers Ends i...   \n",
       "\n",
       "                                           embedding  \n",
       "0  [0.2353478, -0.14758441, -0.22002964, -0.30111...  \n",
       "1  [-0.063942306, 0.14368992, -0.018919019, -0.17...  \n",
       "2  [-0.48678175, -0.11641871, -0.38582614, 0.0014...  "
      ]
     },
     "execution_count": 9,
     "metadata": {},
     "output_type": "execute_result"
    }
   ],
   "source": [
    "df"
   ]
  },
  {
   "cell_type": "code",
   "execution_count": null,
   "id": "64b3deee-c3be-4f1f-bd69-f83e3eadbde1",
   "metadata": {},
   "outputs": [],
   "source": []
  },
  {
   "cell_type": "markdown",
   "id": "2062e923-ffa6-42fd-b345-7e427b77f19e",
   "metadata": {},
   "source": [
    "### TASK: Create a function that calculates the cosine similarity between two vectors."
   ]
  },
  {
   "cell_type": "code",
   "execution_count": 10,
   "id": "0f9c77f9-7578-4b0e-83b7-79581b31969d",
   "metadata": {},
   "outputs": [],
   "source": [
    "# CODE HERE"
   ]
  },
  {
   "cell_type": "code",
   "execution_count": 11,
   "id": "6bb5e102-ee3b-43a2-a6ba-516caa307349",
   "metadata": {
    "tags": []
   },
   "outputs": [],
   "source": [
    "def cosine_similarity(vector1,vector2):\n",
    "    # Calculate the dot product of the two vectors\n",
    "    dot_product = np.dot(vector1, vector2)\n",
    "\n",
    "    # Calculate the magnitude (norm) of each vector\n",
    "    magnitude_vector1 = np.linalg.norm(vector1)\n",
    "    magnitude_vector2 = np.linalg.norm(vector2)\n",
    "\n",
    "    # Calculate the cosine similarity\n",
    "    return dot_product / (magnitude_vector1 * magnitude_vector2)"
   ]
  },
  {
   "cell_type": "code",
   "execution_count": null,
   "id": "6b03e5eb-7e0b-4824-b8d0-c99ce683ecc0",
   "metadata": {},
   "outputs": [],
   "source": []
  },
  {
   "cell_type": "markdown",
   "id": "0335f262-5fb8-4c04-9ea9-8f962906f109",
   "metadata": {},
   "source": [
    "### TASK: Create a function that takes in a string prompt, creates its vector embedding, and then retrieves the most similar text from the dataframe."
   ]
  },
  {
   "cell_type": "code",
   "execution_count": 12,
   "id": "a3f1eb14-feee-4c3c-acbb-530c0f926258",
   "metadata": {},
   "outputs": [],
   "source": [
    "# CODE HERE"
   ]
  },
  {
   "cell_type": "code",
   "execution_count": 13,
   "id": "c461ede2-56c3-43f2-9ef8-2828563e3f7e",
   "metadata": {
    "tags": []
   },
   "outputs": [],
   "source": [
    "import numpy as np\n",
    "\n",
    "def most_similar_text(prompt):\n",
    "    prompt_embedding = embed_text(prompt)\n",
    "    df['prompt_similarity'] = df['embedding'].apply(lambda vector: cosine_similarity(vector, prompt_embedding))\n",
    "    return df.nlargest(1, 'prompt_similarity').iloc[0]['text']"
   ]
  },
  {
   "cell_type": "code",
   "execution_count": 14,
   "id": "8ac2631b-7dfc-463c-8a44-3e0870bc35af",
   "metadata": {
    "tags": []
   },
   "outputs": [
    {
     "data": {
      "text/plain": [
       "\"Epic Clash between 49ers and Buccaneers Ends in Thrilling Showdown\\n\\nDate: October 15, 2023\\n\\nIn a highly anticipated match-up on the gridiron, the San Francisco 49ers squared off against the Tampa Bay Buccaneers on October 15, 2023, in what turned out to be a thrilling display of football prowess. With fans eagerly watching, both teams brought their A-game, resulting in an electrifying contest that will be remembered for years to come.\\n\\nThe final scoreline of the game read 27-24 in favor of the 49ers, but the journey to that outcome was nothing short of extraordinary.\\n\\nFirst Quarter Fireworks:\\n\\nThe first quarter set the tone for the entire game as the Buccaneers, led by their star quarterback, Tom Brady, executed a perfectly choreographed drive ending in a touchdown pass to wide receiver Mike Evans. However, the 49ers' defense, known for its tenacity, responded with a crucial interception.\\n\\nBack-and-Forth Battle:\\n\\nAs the game unfolded, both teams traded blows with pinpoint passes and strategic runs. The 49ers' young quarterback, Trey Lance, showcased his exceptional athleticism, connecting with veteran tight end George Kittle for a spectacular touchdown. The Buccaneers countered with Brady's precision, finding Antonio Brown in the end zone.\\n\\nA Defensive Duel:\\n\\nThe second half witnessed a defensive showdown. The Buccaneers' defense, spearheaded by the formidable Ndamukong Suh, consistently pressured Lance, while the 49ers' secondary held its ground against Brady's aerial assaults.\\n\\nThe Final Drive:\\n\\nWith minutes remaining on the clock, the 49ers embarked on a game-winning drive, orchestrated by Lance's composure and accuracy. Kicker Robbie Gould, with ice in his veins, nailed a 43-yard field goal as time expired, sealing the 27-24 victory for San Francisco.\\n\\nPost-Game Analysis:\\n\\nThis captivating contest between the 49ers and the Buccaneers showcased the essence of football—a game of strategy, skill, and teamwork. It highlighted the talents of both seasoned veterans and emerging stars in the NFL.\\n\\nAs fans headed home with memories of a game that will be etched in their hearts, they were reminded that football is more than just a sport; it's a source of excitement, inspiration, and unity.\\n\\nThe next chapter in this NFL season promises more breathtaking matchups, and football enthusiasts can't wait to witness the drama unfold once again on the field.\""
      ]
     },
     "execution_count": 14,
     "metadata": {},
     "output_type": "execute_result"
    }
   ],
   "source": [
    "most_similar_text(\"What was the score of the 49ers Football game?\")"
   ]
  },
  {
   "cell_type": "markdown",
   "id": "612f0912-3db3-4a56-b60c-1b2f70f6fdb1",
   "metadata": {},
   "source": [
    "### TASK: Combine the functions created above to accept a user prompt and perform RAG and then inject that as context for the LLM call."
   ]
  },
  {
   "cell_type": "code",
   "execution_count": 15,
   "id": "b176e1b4-c584-4d66-b16e-2b13c282867f",
   "metadata": {},
   "outputs": [],
   "source": [
    "# CODE HERE"
   ]
  },
  {
   "cell_type": "code",
   "execution_count": 16,
   "id": "9aadaca6-331e-4d4f-8f81-9d940d7ce8aa",
   "metadata": {
    "tags": []
   },
   "outputs": [],
   "source": [
    "def llm_with_rag(prompt):\n",
    "    \n",
    "    rag_text = most_similar_text(prompt)\n",
    "    \n",
    "    full_prompt = f\"{rag_text}\\n\\nANSWER THE FOLLOWING QUESTION:\\n{prompt}\"\n",
    "    \n",
    "    body = json.dumps({'inputText': full_prompt})\n",
    "    \n",
    "    response = bedrock_runtime.invoke_model(body=body, modelId='amazon.titan-text-express-v1')\n",
    "    response_body = json.loads(response.get('body').read())\n",
    "    return response_body['results'][0]['outputText']"
   ]
  },
  {
   "cell_type": "code",
   "execution_count": 17,
   "id": "f9f1cdbd-4308-494e-af08-0f9d2df21723",
   "metadata": {
    "tags": []
   },
   "outputs": [
    {
     "data": {
      "text/plain": [
       "'\\nThe final score of the 49ers football game was 27-24.'"
      ]
     },
     "execution_count": 17,
     "metadata": {},
     "output_type": "execute_result"
    }
   ],
   "source": [
    "llm_with_rag(\"What was the score of the 49ers Football game?\")"
   ]
  },
  {
   "cell_type": "code",
   "execution_count": null,
   "id": "32d5fa69-dbf3-4033-af08-396aae1e5241",
   "metadata": {},
   "outputs": [],
   "source": []
  }
 ],
 "metadata": {
  "kernelspec": {
   "display_name": "Python 3 (ipykernel)",
   "language": "python",
   "name": "python3"
  },
  "language_info": {
   "codemirror_mode": {
    "name": "ipython",
    "version": 3
   },
   "file_extension": ".py",
   "mimetype": "text/x-python",
   "name": "python",
   "nbconvert_exporter": "python",
   "pygments_lexer": "ipython3",
   "version": "3.11.3"
  }
 },
 "nbformat": 4,
 "nbformat_minor": 5
}
