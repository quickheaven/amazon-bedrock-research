{
 "cells": [
  {
   "cell_type": "markdown",
   "id": "6c6f76b5-876b-4bae-a0af-efea4af2907a",
   "metadata": {},
   "source": [
    "## RAG-Retrieval Augmented Generation"
   ]
  },
  {
   "cell_type": "markdown",
   "id": "5f985149-ea1c-4c0b-b956-bc4c8e0b72ee",
   "metadata": {},
   "source": [
    "### Understanding RAG"
   ]
  },
  {
   "cell_type": "code",
   "execution_count": 34,
   "id": "f584ec41-b572-43f5-b8a8-26cfafd02a96",
   "metadata": {
    "tags": []
   },
   "outputs": [],
   "source": [
    "sports_text = \"Baseball is the best sport and there is a baseball game today at 4pm\"\n",
    "finance_text = \"The stock market was down today by 500 points, or approximately 1%\""
   ]
  },
  {
   "cell_type": "code",
   "execution_count": 35,
   "id": "1dbfd921-2a8a-4110-bba3-740266d1c2e7",
   "metadata": {
    "tags": []
   },
   "outputs": [],
   "source": [
    "import boto3\n",
    "bedrock_runtime = boto3.client(region_name='us-east-1', service_name='bedrock-runtime')"
   ]
  },
  {
   "cell_type": "code",
   "execution_count": 36,
   "id": "f09d6284-b397-403b-b0b6-491917c777d7",
   "metadata": {
    "tags": []
   },
   "outputs": [],
   "source": [
    "import json"
   ]
  },
  {
   "cell_type": "code",
   "execution_count": 37,
   "id": "96c0e6a7-2f18-425a-ae4a-75d918c7b277",
   "metadata": {
    "tags": []
   },
   "outputs": [],
   "source": [
    "json_request = {'inputText': sports_text}\n",
    "body = json.dumps(json_request)"
   ]
  },
  {
   "cell_type": "code",
   "execution_count": 38,
   "id": "40496d6d-b6da-40e8-8ab8-051bc1ff2ee7",
   "metadata": {
    "tags": []
   },
   "outputs": [],
   "source": [
    "response = bedrock_runtime.invoke_model(body=body, modelId='amazon.titan-embed-text-v1')"
   ]
  },
  {
   "cell_type": "code",
   "execution_count": 39,
   "id": "7c716ec2-bf9d-4900-b222-e56baa2fbf28",
   "metadata": {
    "tags": []
   },
   "outputs": [],
   "source": [
    "response_body = json.loads(response.get('body').read())"
   ]
  },
  {
   "cell_type": "code",
   "execution_count": 40,
   "id": "88235212-eb92-4904-9f5f-3333e893dfe2",
   "metadata": {
    "tags": []
   },
   "outputs": [],
   "source": [
    "#response_body['embedding']"
   ]
  },
  {
   "cell_type": "code",
   "execution_count": 41,
   "id": "edf47b32-8250-42ed-9f41-72bdeb946db0",
   "metadata": {
    "tags": []
   },
   "outputs": [
    {
     "data": {
      "text/plain": [
       "list"
      ]
     },
     "execution_count": 41,
     "metadata": {},
     "output_type": "execute_result"
    }
   ],
   "source": [
    "type(response_body['embedding'])"
   ]
  },
  {
   "cell_type": "code",
   "execution_count": 42,
   "id": "0f74ff54-16ed-47fe-9559-8ba1f4c937c9",
   "metadata": {
    "tags": []
   },
   "outputs": [
    {
     "data": {
      "text/plain": [
       "1536"
      ]
     },
     "execution_count": 42,
     "metadata": {},
     "output_type": "execute_result"
    }
   ],
   "source": [
    "len(response_body['embedding'])"
   ]
  },
  {
   "cell_type": "code",
   "execution_count": 43,
   "id": "2760bc3a-27bb-450c-b4c9-6ae4f007dd60",
   "metadata": {
    "tags": []
   },
   "outputs": [],
   "source": [
    "def embed_text(text):\n",
    "    json_request = {'inputText': text}\n",
    "    body = json.dumps(json_request)\n",
    "    response = bedrock_runtime.invoke_model(body=body, modelId='amazon.titan-embed-text-v1')\n",
    "    return json.loads(response.get('body').read())['embedding']"
   ]
  },
  {
   "cell_type": "code",
   "execution_count": 44,
   "id": "89cd9546-a9e8-40dc-ad7f-a34812843c99",
   "metadata": {
    "tags": []
   },
   "outputs": [],
   "source": [
    "# embed_text('hello how are you')"
   ]
  },
  {
   "cell_type": "code",
   "execution_count": 45,
   "id": "4c0732e0-3e31-446d-b482-bf4becb480f3",
   "metadata": {
    "tags": []
   },
   "outputs": [],
   "source": [
    "import pandas as pd\n",
    "data = {'name': ['sports_text', 'finance_text'], 'text': [sports_text, finance_text]}\n",
    "df = pd.DataFrame(data)"
   ]
  },
  {
   "cell_type": "code",
   "execution_count": 46,
   "id": "0a36ee3b-e8ed-48cb-ac37-303cfc4095db",
   "metadata": {
    "tags": []
   },
   "outputs": [
    {
     "data": {
      "text/html": [
       "<div>\n",
       "<style scoped>\n",
       "    .dataframe tbody tr th:only-of-type {\n",
       "        vertical-align: middle;\n",
       "    }\n",
       "\n",
       "    .dataframe tbody tr th {\n",
       "        vertical-align: top;\n",
       "    }\n",
       "\n",
       "    .dataframe thead th {\n",
       "        text-align: right;\n",
       "    }\n",
       "</style>\n",
       "<table border=\"1\" class=\"dataframe\">\n",
       "  <thead>\n",
       "    <tr style=\"text-align: right;\">\n",
       "      <th></th>\n",
       "      <th>name</th>\n",
       "      <th>text</th>\n",
       "    </tr>\n",
       "  </thead>\n",
       "  <tbody>\n",
       "    <tr>\n",
       "      <th>0</th>\n",
       "      <td>sports_text</td>\n",
       "      <td>Baseball is the best sport and there is a base...</td>\n",
       "    </tr>\n",
       "    <tr>\n",
       "      <th>1</th>\n",
       "      <td>finance_text</td>\n",
       "      <td>The stock market was down today by 500 points,...</td>\n",
       "    </tr>\n",
       "  </tbody>\n",
       "</table>\n",
       "</div>"
      ],
      "text/plain": [
       "           name                                               text\n",
       "0   sports_text  Baseball is the best sport and there is a base...\n",
       "1  finance_text  The stock market was down today by 500 points,..."
      ]
     },
     "execution_count": 46,
     "metadata": {},
     "output_type": "execute_result"
    }
   ],
   "source": [
    "df"
   ]
  },
  {
   "cell_type": "code",
   "execution_count": 47,
   "id": "3f6407c2-a93f-4b6d-8799-c94d1118a39b",
   "metadata": {
    "tags": []
   },
   "outputs": [],
   "source": [
    "df['embedding'] = df['text'].apply(embed_text)"
   ]
  },
  {
   "cell_type": "code",
   "execution_count": 48,
   "id": "8cbcdac2-d039-46dd-837f-64e11a35b6c3",
   "metadata": {
    "tags": []
   },
   "outputs": [
    {
     "data": {
      "text/html": [
       "<div>\n",
       "<style scoped>\n",
       "    .dataframe tbody tr th:only-of-type {\n",
       "        vertical-align: middle;\n",
       "    }\n",
       "\n",
       "    .dataframe tbody tr th {\n",
       "        vertical-align: top;\n",
       "    }\n",
       "\n",
       "    .dataframe thead th {\n",
       "        text-align: right;\n",
       "    }\n",
       "</style>\n",
       "<table border=\"1\" class=\"dataframe\">\n",
       "  <thead>\n",
       "    <tr style=\"text-align: right;\">\n",
       "      <th></th>\n",
       "      <th>name</th>\n",
       "      <th>text</th>\n",
       "      <th>embedding</th>\n",
       "    </tr>\n",
       "  </thead>\n",
       "  <tbody>\n",
       "    <tr>\n",
       "      <th>0</th>\n",
       "      <td>sports_text</td>\n",
       "      <td>Baseball is the best sport and there is a base...</td>\n",
       "      <td>[1.140625, -0.30859375, -0.4921875, -0.1640625...</td>\n",
       "    </tr>\n",
       "    <tr>\n",
       "      <th>1</th>\n",
       "      <td>finance_text</td>\n",
       "      <td>The stock market was down today by 500 points,...</td>\n",
       "      <td>[0.48632812, 0.84765625, -0.37304688, -0.10107...</td>\n",
       "    </tr>\n",
       "  </tbody>\n",
       "</table>\n",
       "</div>"
      ],
      "text/plain": [
       "           name                                               text  \\\n",
       "0   sports_text  Baseball is the best sport and there is a base...   \n",
       "1  finance_text  The stock market was down today by 500 points,...   \n",
       "\n",
       "                                           embedding  \n",
       "0  [1.140625, -0.30859375, -0.4921875, -0.1640625...  \n",
       "1  [0.48632812, 0.84765625, -0.37304688, -0.10107...  "
      ]
     },
     "execution_count": 48,
     "metadata": {},
     "output_type": "execute_result"
    }
   ],
   "source": [
    "df"
   ]
  },
  {
   "cell_type": "code",
   "execution_count": 49,
   "id": "30f3e022-f307-4068-a263-e98949b52821",
   "metadata": {
    "tags": []
   },
   "outputs": [],
   "source": [
    "import numpy as np\n",
    "\n",
    "def cosine_similarity1(vector1, vector2):\n",
    "    vector1 = np.array(vector1)\n",
    "    vector2 = np.array(vector2)\n",
    "    \n",
    "    dot_product = np.dot(vector1, vector2)\n",
    "    mag1 = np.linalg.norm(vector1)\n",
    "    mag2 = np.linalg.norm(vector2)\n",
    "    \n",
    "    return dot_product / (mag1*mag2)\n",
    "    \n",
    "def cosine_similarity(vector1,vector2):\n",
    "    # Calculate the dot product of the two vectors\n",
    "    dot_product = np.dot(vector1, vector2)\n",
    "\n",
    "    # Calculate the magnitude (norm) of each vector\n",
    "    magnitude_vector1 = np.linalg.norm(vector1)\n",
    "    magnitude_vector2 = np.linalg.norm(vector2)\n",
    "\n",
    "    # Calculate the cosine similarity\n",
    "    return dot_product / (magnitude_vector1 * magnitude_vector2)    "
   ]
  },
  {
   "cell_type": "code",
   "execution_count": 50,
   "id": "a8a5aaa5-ab2e-4259-880d-6438632315b7",
   "metadata": {
    "tags": []
   },
   "outputs": [],
   "source": [
    "vector1 = np.array(df['embedding'][0])\n",
    "vector2 = np.array(df['embedding'][1])"
   ]
  },
  {
   "cell_type": "code",
   "execution_count": 51,
   "id": "7c57a2bc-f201-48d5-b660-222e3b728516",
   "metadata": {
    "tags": []
   },
   "outputs": [
    {
     "data": {
      "text/plain": [
       "0.1782999436199406"
      ]
     },
     "execution_count": 51,
     "metadata": {},
     "output_type": "execute_result"
    }
   ],
   "source": [
    "cosine_similarity(vector1, vector2)"
   ]
  },
  {
   "cell_type": "code",
   "execution_count": 53,
   "id": "20849ee8-9a83-45e7-87e5-cc198436fb29",
   "metadata": {
    "tags": []
   },
   "outputs": [],
   "source": [
    "query = \"How did the stock market perform today?\""
   ]
  },
  {
   "cell_type": "code",
   "execution_count": 54,
   "id": "ce2a80b3-a299-483e-b957-b32a3951b646",
   "metadata": {
    "tags": []
   },
   "outputs": [],
   "source": [
    "prompt_embedding = embed_text(query)"
   ]
  },
  {
   "cell_type": "code",
   "execution_count": 56,
   "id": "aa6a990a-8533-451d-91cc-9738b95ee22d",
   "metadata": {
    "tags": []
   },
   "outputs": [],
   "source": [
    "df['prompt_similarity'] = df['embedding'].apply(lambda vector : cosine_similarity(vector, prompt_embedding))"
   ]
  },
  {
   "cell_type": "code",
   "execution_count": 57,
   "id": "2fd54619-1787-45cf-a1ce-1d05e8e63c1d",
   "metadata": {
    "tags": []
   },
   "outputs": [
    {
     "data": {
      "text/html": [
       "<div>\n",
       "<style scoped>\n",
       "    .dataframe tbody tr th:only-of-type {\n",
       "        vertical-align: middle;\n",
       "    }\n",
       "\n",
       "    .dataframe tbody tr th {\n",
       "        vertical-align: top;\n",
       "    }\n",
       "\n",
       "    .dataframe thead th {\n",
       "        text-align: right;\n",
       "    }\n",
       "</style>\n",
       "<table border=\"1\" class=\"dataframe\">\n",
       "  <thead>\n",
       "    <tr style=\"text-align: right;\">\n",
       "      <th></th>\n",
       "      <th>name</th>\n",
       "      <th>text</th>\n",
       "      <th>embedding</th>\n",
       "      <th>prompt_similarity</th>\n",
       "    </tr>\n",
       "  </thead>\n",
       "  <tbody>\n",
       "    <tr>\n",
       "      <th>0</th>\n",
       "      <td>sports_text</td>\n",
       "      <td>Baseball is the best sport and there is a base...</td>\n",
       "      <td>[1.140625, -0.30859375, -0.4921875, -0.1640625...</td>\n",
       "      <td>0.221955</td>\n",
       "    </tr>\n",
       "    <tr>\n",
       "      <th>1</th>\n",
       "      <td>finance_text</td>\n",
       "      <td>The stock market was down today by 500 points,...</td>\n",
       "      <td>[0.48632812, 0.84765625, -0.37304688, -0.10107...</td>\n",
       "      <td>0.665515</td>\n",
       "    </tr>\n",
       "  </tbody>\n",
       "</table>\n",
       "</div>"
      ],
      "text/plain": [
       "           name                                               text  \\\n",
       "0   sports_text  Baseball is the best sport and there is a base...   \n",
       "1  finance_text  The stock market was down today by 500 points,...   \n",
       "\n",
       "                                           embedding  prompt_similarity  \n",
       "0  [1.140625, -0.30859375, -0.4921875, -0.1640625...           0.221955  \n",
       "1  [0.48632812, 0.84765625, -0.37304688, -0.10107...           0.665515  "
      ]
     },
     "execution_count": 57,
     "metadata": {},
     "output_type": "execute_result"
    }
   ],
   "source": [
    "df"
   ]
  },
  {
   "cell_type": "code",
   "execution_count": 60,
   "id": "e4f4ba0a-3728-4b7f-a769-e7975bf173bb",
   "metadata": {
    "tags": []
   },
   "outputs": [],
   "source": [
    "most_similar_text = df.nlargest(1, 'prompt_similarity').iloc[0]['text'] # get the row with largest similarity"
   ]
  },
  {
   "cell_type": "code",
   "execution_count": 61,
   "id": "e760112d-4722-4a04-9bfd-f674f9210b10",
   "metadata": {
    "tags": []
   },
   "outputs": [],
   "source": [
    "full_prompt = f\"Answer this question based on the context provided. Here is the question:\\n{query} Here is the context: {most_similar_text}\""
   ]
  },
  {
   "cell_type": "code",
   "execution_count": 62,
   "id": "0125e23d-60ee-4f94-8c50-74661826423d",
   "metadata": {
    "tags": []
   },
   "outputs": [
    {
     "name": "stdout",
     "output_type": "stream",
     "text": [
      "Answer this question based on the context provided. Here is the question:\n",
      "How did the stock market perform today? Here is the context: The stock market was down today by 500 points, or approximately 1%\n"
     ]
    }
   ],
   "source": [
    "print(full_prompt)"
   ]
  },
  {
   "cell_type": "code",
   "execution_count": 63,
   "id": "595746fd-e58d-4896-89c7-68eb303f4e0b",
   "metadata": {
    "tags": []
   },
   "outputs": [],
   "source": [
    "body = json.dumps({'prompt': full_prompt, 'temperature':0})"
   ]
  },
  {
   "cell_type": "code",
   "execution_count": 64,
   "id": "37ab7419-e49a-45f3-8938-33913d151537",
   "metadata": {
    "tags": []
   },
   "outputs": [],
   "source": [
    "response = bedrock_runtime.invoke_model(body=body, modelId='meta.llama2-13b-chat-v1')"
   ]
  },
  {
   "cell_type": "code",
   "execution_count": 65,
   "id": "f93ab424-816e-40bc-a21b-0de40394d2fb",
   "metadata": {
    "tags": []
   },
   "outputs": [],
   "source": [
    "response_body = json.loads(response.get('body').read())"
   ]
  },
  {
   "cell_type": "code",
   "execution_count": 67,
   "id": "4228eb27-5213-4450-892d-50c2a89f1ed5",
   "metadata": {
    "tags": []
   },
   "outputs": [
    {
     "data": {
      "text/plain": [
       "' of the total value of the market.\\n\\nBased on the context, the answer to the question \"How did the stock market perform today?\" would be:\\n\\nThe stock market was down today.'"
      ]
     },
     "execution_count": 67,
     "metadata": {},
     "output_type": "execute_result"
    }
   ],
   "source": [
    "response_body['generation']"
   ]
  },
  {
   "cell_type": "code",
   "execution_count": null,
   "id": "1d8c0f88-ae98-44a4-8248-e6635396da1e",
   "metadata": {},
   "outputs": [],
   "source": []
  }
 ],
 "metadata": {
  "kernelspec": {
   "display_name": "Python 3 (ipykernel)",
   "language": "python",
   "name": "python3"
  },
  "language_info": {
   "codemirror_mode": {
    "name": "ipython",
    "version": 3
   },
   "file_extension": ".py",
   "mimetype": "text/x-python",
   "name": "python",
   "nbconvert_exporter": "python",
   "pygments_lexer": "ipython3",
   "version": "3.11.3"
  }
 },
 "nbformat": 4,
 "nbformat_minor": 5
}
